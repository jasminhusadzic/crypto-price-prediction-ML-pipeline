{
 "cells": [
  {
   "cell_type": "code",
   "execution_count": null,
   "metadata": {},
   "outputs": [],
   "source": [
    "# # Create a virtual environment\n",
    "# python3 -m venv venv_crypto_prediction\n",
    "\n",
    "# # Activate the virtual environment\n",
    "# source venv_crypto_prediction/bin/activate\n",
    "\n",
    "# # Install packages from requirements.txt\n",
    "# pip install -r requirements.txt\n",
    "\n",
    "# # Add the virtual environment as a Jupyter kernel\n",
    "# python -m ipykernel install --user --name=venv_crypto_prediction --display-name \"Python (venv_crypto_prediction)\""
   ]
  },
  {
   "cell_type": "code",
   "execution_count": 23,
   "metadata": {},
   "outputs": [],
   "source": [
    "import requests\n",
    "import pandas as pd\n",
    "from datetime import datetime\n",
    "\n",
    "def fetch_crypto_data(crypto, start_date, end_date):\n",
    "    # CoinGecko API endpoint for historical data\n",
    "    url = f\"https://api.coingecko.com/api/v3/coins/{crypto}/market_chart/range\"\n",
    "    params = {\n",
    "        'vs_currency': 'usd',\n",
    "        'from': start_date.timestamp(),\n",
    "        'to': end_date.timestamp()\n",
    "    }\n",
    "    response = requests.get(url, params=params)\n",
    "    if response.status_code == 200:\n",
    "        return response.json()\n",
    "    else:\n",
    "        print(\"Failed to fetch data:\", response.status_code)\n",
    "        return None\n",
    "\n",
    "def prepare_dataframe(data):\n",
    "    # Convert timestamps to readable dates and select relevant data\n",
    "    df = pd.DataFrame(data['prices'], columns=['date', 'price'])\n",
    "    df['market_cap'] = pd.DataFrame(data['market_caps'])[1]\n",
    "    df['volume_24h'] = pd.DataFrame(data['total_volumes'])[1]\n",
    "    df['date'] = pd.to_datetime(df['date'], unit='ms')\n",
    "    return df\n",
    "\n",
    "start_date = datetime(2016, 1, 1)\n",
    "end_date = datetime.now()\n",
    "\n",
    "data = fetch_crypto_data(\"dogecoin\", start_date, end_date)\n",
    "df = prepare_dataframe(data)\n",
    "df.to_csv('dogecoin_data_since_2016.csv', index=False)"
   ]
  }
 ],
 "metadata": {
  "kernelspec": {
   "display_name": "venv_crypto_prediction",
   "language": "python",
   "name": "python3"
  },
  "language_info": {
   "codemirror_mode": {
    "name": "ipython",
    "version": 3
   },
   "file_extension": ".py",
   "mimetype": "text/x-python",
   "name": "python",
   "nbconvert_exporter": "python",
   "pygments_lexer": "ipython3",
   "version": "3.10.5"
  }
 },
 "nbformat": 4,
 "nbformat_minor": 2
}
